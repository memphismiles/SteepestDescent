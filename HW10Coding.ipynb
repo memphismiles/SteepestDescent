{
 "cells": [
  {
   "cell_type": "markdown",
   "id": "db3b3340-3262-42d5-a789-1dfb928525a6",
   "metadata": {},
   "source": [
    "# Math 164 Steepest Descent\n",
    "### Memphis Lau\n",
    "### UID: 005721923"
   ]
  },
  {
   "cell_type": "markdown",
   "id": "35621bdb-9714-4893-842f-6e7f006162b6",
   "metadata": {},
   "source": [
    "### Mathematical Concept\n",
    "\n",
    "For this project, I will use the steepest descent algorithm, which uses a function's gradient and a specially chosen $\\alpha$, which changes at every iteration, to find a minimizer. One property of the steepest descent method is that the difference between two consecutive steps is orthogonal to the difference between the next two consecutive steps, i.e. $x^{(k+1)} - x^{(k)}$ is orthogonal to $x^{(k+2)} - x^{(k+1)}$ for all k.\n",
    "\n",
    "In the steepest descent algorithm, we update $x^{(k+1)} = x^{k} - \\alpha_k \\nabla f(x^{(k)})$ until we reach the true minimizer, get close enough to some given error, or hit the number of max iterations. The formula for $\\alpha_k$ here is $argmin_{\\alpha \\ge 0} f(x^{(k)} - \\alpha \\nabla f(x^{(k)}))$. This $\\alpha_k$ is chosen to achieve the maximum amount of decrease of the objective function at each step. When the objective function is a quadratic function, i.e. in the form $f(x) = \\frac{1}{2} x^TQx - b^Tx$, the formula for $\\alpha_k$ is given by \n",
    "$\\alpha_k = \\frac{g^{(k)T}g^{(k)}}{g^{(k)T}Qg^{(k)}}$, where $g^{(k)}$ represents $\\nabla f(x^{(k)})$.\n",
    "\n",
    "The objective function given here is $f(x,y,z) = \\frac{3}{2} x^2 + 2y^2 + \\frac{3}{2} z^2 + xz + 2yz - 3x - z$. We can rewrite this as the quadratic function $f(\\tilde{x}) = \\frac{1}{2} \\tilde{x}^T \n",
    "\\begin{bmatrix} \n",
    "    3 & 0 & 1 \\\\\n",
    "    0 & 4 & 2 \\\\\n",
    "    1 & 2 & 3\n",
    "\\end{bmatrix} \n",
    "\\tilde{x} - \\begin{bmatrix} 3\\\\0\\\\1 \\end{bmatrix}^T \\tilde{x}$, where $\\tilde{x} = [x, y, z]^T$.\n",
    "\n",
    "We also calculate that $\\nabla f(\\tilde{x}) = \\begin{bmatrix} \\frac{\\partial f}{\\partial x} \\\\ \\frac{\\partial f}{\\partial y} \\\\ \\frac{\\partial f}{\\partial z} \\end{bmatrix} = \\begin{bmatrix} 3x + z -3 \\\\ 4y + 2z \\\\ 3z + x + 2y -1 \\end{bmatrix} = Q\\tilde{x} - b$\n",
    "\n",
    "Due to our knowledge of quadratic formulas, we know the true solution $x^{*}$ is $Q^{-1}b$, which equals $\\begin{bmatrix} \n",
    "    3 & 0 & 1 \\\\\n",
    "    0 & 4 & 2 \\\\\n",
    "    1 & 2 & 3\n",
    "\\end{bmatrix}^{-1} \\begin{bmatrix} 3\\\\0\\\\1 \\end{bmatrix} = \\begin{bmatrix} 1\\\\0\\\\0 \\end{bmatrix}$\n",
    "We can use this to calculate error.\n",
    "\n",
    "Now we have everything we need to code the algorithm.\n",
    "\n",
    "### Code"
   ]
  },
  {
   "cell_type": "code",
   "execution_count": 1,
   "id": "ae55befc-5586-4a4b-94d3-65d619e8e2d2",
   "metadata": {},
   "outputs": [],
   "source": [
    "# import numpy and matplotlib\n",
    "import numpy as np\n",
    "import matplotlib.pyplot as plt"
   ]
  },
  {
   "cell_type": "code",
   "execution_count": 26,
   "id": "b07c3d78-3fd8-4219-8d7b-7ce88cf1cf56",
   "metadata": {},
   "outputs": [],
   "source": [
    "# initialize x0\n",
    "x0 = np.matrix([0,0,0]).T\n",
    "\n",
    "# define hyperparameters\n",
    "num_iterations = 1000000\n",
    "tolerance = 10**(-6)\n",
    "\n",
    "# define objective function. These lines can be changed to run this code for different objective functions\n",
    "Q = np.matrix([[3,0,1],[0,4,2],[1,2,3]])\n",
    "b = np.matrix([3,0,1]).T\n",
    "\n",
    "# Find x_star for error calculations\n",
    "x_star = np.matmul(np.linalg.inv(Q), b)"
   ]
  },
  {
   "cell_type": "code",
   "execution_count": 3,
   "id": "02092587-312f-4703-a0fa-4e96dbb6a91e",
   "metadata": {},
   "outputs": [],
   "source": [
    "# function for finding gradient of f at x\n",
    "def find_gradient(Q, b, x):\n",
    "    return np.matmul(Q,x) - b"
   ]
  },
  {
   "cell_type": "code",
   "execution_count": 4,
   "id": "713b75a0-ae22-4d5a-a24f-39d60339b442",
   "metadata": {},
   "outputs": [],
   "source": [
    "# function for finding alpha_k\n",
    "def find_alpha(g, Q):\n",
    "    numerator = np.matmul(g.T,g)\n",
    "    denominator = np.matmul(np.matmul(g.T,Q), g)\n",
    "    return numerator / denominator"
   ]
  },
  {
   "cell_type": "code",
   "execution_count": 64,
   "id": "5b8df04e-73f1-4d75-b656-900327237b11",
   "metadata": {},
   "outputs": [],
   "source": [
    "# function for finding error using solution\n",
    "def find_error(x_k):\n",
    "    numerator = np.sqrt(sum(np.square(x_k - x_star)))\n",
    "    denominator = np.sqrt(sum(np.square(x_star)))\n",
    "    return numerator / denominator"
   ]
  },
  {
   "cell_type": "code",
   "execution_count": 68,
   "id": "dd670ac0-cb2f-4e29-b462-8e8e91fee6da",
   "metadata": {},
   "outputs": [],
   "source": [
    "# initialize error array for plotting later\n",
    "err = np.array([1])\n",
    "\n",
    "# initialize a counter variable i as 1\n",
    "i = 1\n",
    "\n",
    "# initialize xk as x0 for now\n",
    "x_k = x0\n",
    "\n",
    "# run code until either error is less than tolerance or we reach max iterations\n",
    "while err[i-1] > tolerance and i < num_iterations:\n",
    "    # find gradient\n",
    "    gradient = find_gradient(Q, b, x_k)\n",
    "    # find optimal alpha\n",
    "    alpha = find_alpha(gradient, Q)\n",
    "    # update\n",
    "    x_kp1 = x_k - alpha.item() * gradient\n",
    "    # calculate and store error\n",
    "    err = np.append(err, find_error(x_kp1))\n",
    "    # change xk to be x(k+1)\n",
    "    x_k = x_kp1\n",
    "    # increment i and run through loop again\n",
    "    i += 1"
   ]
  },
  {
   "cell_type": "markdown",
   "id": "6c0b5220-a57a-45a4-b379-fe7d0b2e0396",
   "metadata": {},
   "source": [
    "When we use the error function with the solution, the algorithm reaches a point close enough to the trun solution after 32 iterations, ending with a solution $\\tilde{x} = \\begin{bmatrix} 0.9999997\\\\0.00000002 \\\\ 0.0000007 \\end{bmatrix}$"
   ]
  },
  {
   "cell_type": "code",
   "execution_count": 73,
   "id": "a593fe03-be6f-4b9d-b13b-480c8864ca15",
   "metadata": {},
   "outputs": [
    {
     "data": {
      "image/png": "[encoded data removed]",
      "text/plain": [
       "<Figure size 432x288 with 2 Axes>"
      ]
     },
     "metadata": {
      "needs_background": "light"
     },
     "output_type": "display_data"
    }
   ],
   "source": [
    "fig,ax= plt.subplots(1,2, constrained_layout = True)\n",
    "plt.subplot(1,2,1)\n",
    "plt.plot(range(0,len(err)), err)\n",
    "plt.xlabel('Iterations')\n",
    "plt.ylabel('Error')\n",
    "plt.title('Error vs. Iterations')\n",
    "plt.subplot(1,2,2)\n",
    "plt.plot(range(0,len(err)), np.log(err))\n",
    "plt.xlabel('Iterations')\n",
    "plt.ylabel('Log of Error')\n",
    "plt.title('Log of Error vs. Iterations')\n",
    "fig.suptitle('Errors using True Solution')\n",
    "plt.show()"
   ]
  },
  {
   "cell_type": "markdown",
   "id": "74549f6c-ccf8-49e3-a8a6-e2128c97bab2",
   "metadata": {},
   "source": [
    "Now, in practice, we typically do not know the true solution $x^*$, so I will run this code again but with the second error function, which relies only on $x^{(k+1)}$ and $x^{(k)}$."
   ]
  },
  {
   "cell_type": "code",
   "execution_count": 65,
   "id": "66f50e66-e718-488a-b5fd-94cf2626dc1a",
   "metadata": {},
   "outputs": [],
   "source": [
    "# function for finding error if we did not have solution\n",
    "# We will use ||x(k+1) - x(k)|| / ||x(k)||\n",
    "def find_error2(x_kp1, x_k):\n",
    "    difference = x_kp1 - x_k\n",
    "    difference_square = np.square(difference)\n",
    "    numerator = np.sqrt(sum(difference_square))\n",
    "    denominator = np.sqrt(sum(np.square(x_k)))\n",
    "    return numerator / denominator"
   ]
  },
  {
   "cell_type": "code",
   "execution_count": 81,
   "id": "ce39ca22-7962-4365-b9de-13c418918621",
   "metadata": {},
   "outputs": [],
   "source": [
    "i = 1\n",
    "grad1 = find_gradient(Q,b,x0)\n",
    "alpha1 = find_alpha(grad1, Q)\n",
    "x_1 = x0 - alpha1.item() * grad1\n",
    "err = np.array([10])\n",
    "x_k = x_1\n",
    "while err[i-1] > tolerance and i < num_iterations:\n",
    "    gradient = find_gradient(Q, b, x_k)\n",
    "    alpha = find_alpha(gradient, Q)\n",
    "    x_kp1 = x_k - alpha.item() * gradient\n",
    "    err = np.append(err, find_error2(x_kp1,x_k))\n",
    "    x_k = x_kp1\n",
    "    i += 1"
   ]
  },
  {
   "cell_type": "code",
   "execution_count": 88,
   "id": "298ceb27-2e2a-4f74-94a3-9c647bfe2b16",
   "metadata": {},
   "outputs": [
    {
     "data": {
      "image/png": "[encoded data removed]",
      "text/plain": [
       "<Figure size 432x288 with 2 Axes>"
      ]
     },
     "metadata": {
      "needs_background": "light"
     },
     "output_type": "display_data"
    }
   ],
   "source": [
    "fig,ax= plt.subplots(1,2, constrained_layout = True)\n",
    "plt.subplot(1,2,1)\n",
    "plt.plot(range(1,len(err)), err[1:])\n",
    "plt.xlabel('Iterations')\n",
    "plt.ylabel('Error')\n",
    "plt.title('Error vs. Iterations')\n",
    "plt.subplot(1,2,2)\n",
    "plt.plot(range(1,len(err)), np.log(err[1:]))\n",
    "plt.xlabel('Iterations')\n",
    "plt.ylabel('Log of Error')\n",
    "plt.title('Log of Error vs. Iterations')\n",
    "fig.suptitle('Errors using True Solution')\n",
    "plt.show()"
   ]
  },
  {
   "cell_type": "markdown",
   "id": "40877269-c4e8-44fc-aee5-dd8ba61827dc",
   "metadata": {},
   "source": [
    "As we can see from comparing the plots, using the new error function that does not depend on the true solution, the algorithm can still reach a close enough minimizer in 30 iterations. The biggest difference is looking at the log of the error, where it appears more jagged than when the error function uses the true solution."
   ]
  }
 ],
 "metadata": {
  "kernelspec": {
   "display_name": "Python 3 (ipykernel)",
   "language": "python",
   "name": "python3"
  },
  "language_info": {
   "codemirror_mode": {
    "name": "ipython",
    "version": 3
   },
   "file_extension": ".py",
   "mimetype": "text/x-python",
   "name": "python",
   "nbconvert_exporter": "python",
   "pygments_lexer": "ipython3",
   "version": "3.9.12"
  }
 },
 "nbformat": 4,
 "nbformat_minor": 5
}
